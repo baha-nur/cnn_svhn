{
 "cells": [
  {
   "cell_type": "markdown",
   "metadata": {},
   "source": [
    "## Inspecting Data"
   ]
  },
  {
   "cell_type": "code",
   "execution_count": 1,
   "metadata": {
    "collapsed": false
   },
   "outputs": [],
   "source": [
    "import gen_input\n",
    "import numpy as np\n",
    "import os\n",
    "from datetime import datetime\n",
    "import tensorflow as tf\n",
    "\n",
    "train_test_valid_split = [1., 0., 0.]\n",
    "\n",
    "x_train, y_train = gen_input.read_data_sets(\"data/train_32x32.mat\", train_test_valid_split).train.next_batch(100)\n",
    "x_test, y_test = gen_input.read_data_sets(\"data/test_32x32.mat\", train_test_valid_split).train.next_batch(100)"
   ]
  },
  {
   "cell_type": "code",
   "execution_count": 2,
   "metadata": {
    "collapsed": true
   },
   "outputs": [],
   "source": [
    "# Data information\n",
    "input_channels = 3\n",
    "image_size = 32\n",
    "n_classes = 10"
   ]
  },
  {
   "cell_type": "code",
   "execution_count": 3,
   "metadata": {
    "collapsed": false
   },
   "outputs": [],
   "source": [
    "# Default stdev for weights and biases\n",
    "init_std = 0.25\n",
    "# Default decay, if non-zero\n",
    "init_decay = 0.001\n",
    "\n",
    "# We can't initialize these variables to 0 - the network will get stuck.\n",
    "def weight_variable(shape, stddev=init_std):\n",
    "  \"\"\"Create a weight variable with appropriate initialization.\"\"\"\n",
    "  initial = tf.truncated_normal(shape, stddev)\n",
    "  return tf.Variable(initial)\n",
    "\n",
    "def bias_variable(shape, default_bias=init_std):\n",
    "  \"\"\"Create a bias variable with appropriate initialization.\"\"\"\n",
    "  initial = tf.constant(default_bias, shape=shape)\n",
    "  return tf.Variable(initial)\n",
    "\n",
    "def convlayer(layer_name, input_tensor, receptive_field, channels_in, channels_out,\n",
    "              padding='SAME', stride=1, act=tf.nn.relu, decay=0,\n",
    "              pool=False, pooler=tf.nn.max_pool, pool_size=2, pool_stride=2, pool_padding='SAME',\n",
    "              batch_norm=True, training=True):\n",
    "  \"\"\"General purpose convolutional layer, followed by pooling\n",
    "\n",
    "  It does a matrix convolution, bias add, and then uses relu by default to nonlinearize.\n",
    "  Then it pools using max pooling by default.\n",
    "  It also sets up name scoping so that the resultant graph is easy to read,\n",
    "  and adds a number of summary ops for TensorBoard.\n",
    "  \"\"\"\n",
    "  # Adding a name scope ensures logical grouping of the layers in the graph.\n",
    "  with tf.name_scope(layer_name):\n",
    "    # This Variable will hold the state of the weights for the layer\n",
    "    with tf.name_scope('weights'):\n",
    "      weights = weight_variable([receptive_field, receptive_field, channels_in, channels_out])\n",
    "\n",
    "      if decay > 0:\n",
    "          weight_decay = tf.multiply(tf.nn.l2_loss(weights), decay, name='weight_decay')\n",
    "          tf.add_to_collection('losses', weight_decay)\n",
    "  \n",
    "    with tf.name_scope('biases'):\n",
    "      biases = bias_variable([channels_out])\n",
    "      \n",
    "    with tf.name_scope('W_conv_x_plus_b'):\n",
    "      preactivate = tf.nn.conv2d(input_tensor, weights, \n",
    "                                 strides=[1, stride, stride, 1], \n",
    "                                 padding=padding) + biases\n",
    "    \n",
    "    if batch_norm:\n",
    "      with tf.name_scope('batchnorm'):\n",
    "        normed = tf.layers.batch_normalization(preactivate, training=training)\n",
    "      activations = act(normed, name='activation')\n",
    "    else:\n",
    "      activations = act(preactivate, name='activation')  \n",
    "    \n",
    "    if pool:\n",
    "      with tf.name_scope('pool'):\n",
    "        max_pool = pooler(activations, ksize=[1, pool_size, pool_size, 1], \n",
    "                        strides=[1, pool_stride, pool_stride, 1],\n",
    "                        padding=pool_padding)\n",
    "      return max_pool\n",
    "    else: \n",
    "      return activations\n",
    "    \n",
    "def nn_layer(layer_name, input_tensor, input_dim, output_dim, act=tf.nn.relu, decay=0):\n",
    "  \"\"\"Reusable code for making a normal neural net layer.\n",
    "  It does a matrix multiply, bias add, and then uses ReLU to nonlinearize.\n",
    "  It also sets up name scoping so that the resultant graph is easy to read,\n",
    "  and adds a number of summary ops.\n",
    "  \"\"\"\n",
    "  # Adding a name scope ensures logical grouping of the layers in the graph.\n",
    "  with tf.name_scope(layer_name):\n",
    "    # This Variable will hold the state of the weights for the layer\n",
    "    with tf.name_scope('weights'):\n",
    "      weights = weight_variable([input_dim, output_dim])\n",
    "      \n",
    "      if decay > 0:\n",
    "        weight_decay = tf.multiply(tf.nn.l2_loss(weights), decay, name='weight_decay')\n",
    "        tf.add_to_collection('losses', weight_decay)\n",
    "\n",
    "    with tf.name_scope('biases'):\n",
    "      biases = bias_variable([output_dim])\n",
    "    with tf.name_scope('Wx_plus_b'):\n",
    "      preactivate = tf.matmul(input_tensor, weights) + biases\n",
    "    activations = act(preactivate, name='activation')\n",
    "    return activations\n",
    "  \n",
    "def flat_dimension(tensor):\n",
    "  dim = 1 # Compute how many numbers we have, ignoring the batch size\n",
    "  for d in tensor.get_shape()[1:].as_list():\n",
    "    dim *= d\n",
    "  return dim\n",
    "\n",
    "# Normalize by subtracting per image, per channel means\n",
    "def normalize_batch(batch):\n",
    "  per_img_ch_means = batch.mean(axis=1)\n",
    "  return batch - per_img_ch_means[:, np.newaxis, :]\n"
   ]
  },
  {
   "cell_type": "code",
   "execution_count": 4,
   "metadata": {
    "collapsed": false
   },
   "outputs": [],
   "source": [
    "def run(re_run=False):\n",
    "  # RESET TF GRAPH, just in case\n",
    "  tf.reset_default_graph()    \n",
    "  sess = tf.InteractiveSession() ###### May need to change for .py files\n",
    "\n",
    "  ts = datetime.now().strftime('%Y%m%d_%H%M')\n",
    "  logs_path = \"logs/{}/\".format(ts)\n",
    "  pwd = os.getcwd()+\"/\"\n",
    "  print(\"tensorboard --logdir=/{}{}\".format(pwd, logs_path))\n",
    "  train_writer = tf.summary.FileWriter(logs_path + '/train', sess.graph)\n",
    "  test_writer = tf.summary.FileWriter(logs_path + '/test')\n",
    "\n",
    "\n",
    "  ### Place holders ###\n",
    "  with tf.name_scope('test_train_variables'):\n",
    "    training = tf.placeholder(tf.bool) # for batch_norm mode\n",
    "    keep_prob = tf.placeholder(tf.float32) # for drop out\n",
    "  #     Optionally track that place holders are correctly set at test and train tme\n",
    "    tf.summary.scalar('training', tf.to_int32(training, name='ToInt32'))\n",
    "    tf.summary.scalar('dropout_keep_probability', keep_prob)\n",
    "\n",
    "  with tf.name_scope('input'):\n",
    "    x = tf.placeholder(tf.float32, shape=[None, image_size*image_size, input_channels], name=\"x-input\") \n",
    "    y_ = tf.placeholder(tf.float32, shape=[None, n_classes], name=\"y-input\")\n",
    "  \n",
    "  ### Network ###\n",
    "  with tf.name_scope('input_reshape'):\n",
    "    input_reshaped = tf.reshape(x, [-1, image_size, image_size, input_channels])\n",
    "    tf.summary.image('input', input_reshaped, 5) # Optionally save 5 images to ensure reshape is working\n",
    "\n",
    "  conv1 = convlayer(layer_name='conv1', input_tensor=input_reshaped, receptive_field=5, \n",
    "                      channels_in=input_channels, channels_out=64, pool=True, pool_size=2, pool_stride=2,\n",
    "                      batch_norm=False, training=training)\n",
    "  print conv1.shape\n",
    "  \n",
    "  conv2 = convlayer(layer_name='conv2', input_tensor=conv1, receptive_field=5, \n",
    "                    channels_in=64, channels_out=64, pool=True, pool_size=2, pool_stride=2,\n",
    "                    batch_norm=False, training=training)\n",
    "  print conv2.shape\n",
    "  \n",
    "  with tf.name_scope('conv3_flatten'):\n",
    "    conv_reshaped = tf.reshape(conv2, [-1, flat_dimension(conv2)])\n",
    "  print conv_reshaped.shape\n",
    "    \n",
    "  fc1 = nn_layer(layer_name='fc1', input_tensor=conv_reshaped, input_dim=flat_dimension(conv2), output_dim=256, decay=init_decay)\n",
    "  print fc1.shape\n",
    "  \n",
    "  # Do not apply softmax activation yet! use the identity\n",
    "  y = nn_layer(layer_name='output', input_tensor=fc1, input_dim=256, output_dim=n_classes, act=tf.identity) \n",
    "  \n",
    "  \n",
    "  ### Operations ###\n",
    "  # Cross-Entropy Loss\n",
    "  with tf.name_scope('cross_entropy'):\n",
    "    diff = tf.nn.softmax_cross_entropy_with_logits(labels=y_, logits=y)\n",
    "    with tf.name_scope('total'):\n",
    "      cross_entropy = tf.reduce_mean(diff)\n",
    "      tf.add_to_collection('losses', cross_entropy)\n",
    "  tf.summary.scalar('cross_entropy', cross_entropy)\n",
    "  \n",
    "  # Total loss (weight decay + cross-entropy)\n",
    "  total_loss = tf.add_n(tf.get_collection('losses'), name='total_loss')\n",
    "\n",
    "  with tf.name_scope('train'):\n",
    "    train_step = tf.train.AdamOptimizer(learning_rate).minimize(total_loss)\n",
    "\n",
    "  # Other metrics\n",
    "  with tf.name_scope('accuracy'):\n",
    "    with tf.name_scope('correct_prediction'):\n",
    "      correct_prediction = tf.equal(tf.argmax(y, 1), tf.argmax(y_, 1))\n",
    "    with tf.name_scope('accuracy'):\n",
    "      accuracy = tf.reduce_mean(tf.cast(correct_prediction, tf.float32))\n",
    "  tf.summary.scalar('accuracy', accuracy)\n",
    "\n",
    "  # Merge all the summaries and write them out\n",
    "  merged = tf.summary.merge_all()\n",
    "  \n",
    "  # Different options for running the graph\n",
    "  def feed_dict(mode):\n",
    "    \"\"\"Make a TensorFlow feed_dict: maps data onto Tensor placeholders.\"\"\"\n",
    "    if mode == 'Train':\n",
    "      batch_x, batch_y = x_train, y_train\n",
    "      keep_proba = train_keep_prob\n",
    "      training_ = True\n",
    "    elif mode == 'Train_no_drop':\n",
    "      batch_x, batch_y = x_train, y_train\n",
    "      keep_proba = 1.0\n",
    "      training_ = True\n",
    "    elif mode == 'Test':\n",
    "      batch_x, batch_y = x_test, y_test\n",
    "      keep_proba = 1.0\n",
    "      training_ = False\n",
    "    batch_x = normalize_batch(batch_x) # Subtract per image mean\n",
    "    return {x: batch_x, y_: batch_y, keep_prob: keep_proba, training: training_}\n",
    "\n",
    "  # Might be needed for batch norm\n",
    "  extra_update_ops = tf.get_collection(tf.GraphKeys.UPDATE_OPS)  \n",
    "  \n",
    "  tf.global_variables_initializer().run()\n",
    "  \n",
    "  saver = tf.train.Saver()\n",
    "  if re_run:\n",
    "    # Restore variables from disk.\n",
    "    saver.restore(sess, \"/tmp/model{}.ckpt\".format(run_number))\n",
    "    print(\"Model {} restored\".format(run_number))\n",
    "    acc = sess.run(accuracy, feed_dict=feed_dict(mode='Train_no_drop'))\n",
    "    print acc    \n",
    "  \n",
    "  if not(re_run):\n",
    "    for epoch in xrange(training_epochs):\n",
    "      for batch_num in xrange(total_batches):\n",
    "        if batch_num % test_every == test_every - 1:  \n",
    "          # Record summaries and accuracy on the *test* set\n",
    "          summary = sess.run(merged, feed_dict=feed_dict(mode='Test'))\n",
    "          test_writer.add_summary(summary, epoch * total_batches + batch_num)\n",
    "          # Now proceed to train and produce corresponding training summary too\n",
    "          summary, _, _ = sess.run([merged, train_step, extra_update_ops], feed_dict=feed_dict(mode='Train_no_drop'))\n",
    "          train_writer.add_summary(summary, epoch * total_batches + batch_num)\n",
    "        else:\n",
    "          sess.run([train_step, extra_update_ops], feed_dict=feed_dict(mode='Train'))\n",
    "    print \"\\nOptimization Finished!\\n\"\n",
    "\n",
    "    save_path = saver.save(sess, \"/tmp/model{}.ckpt\".format(run_number))\n",
    "    print(\"Model saved in file: %s\" % save_path)\n",
    "\n",
    "  \n",
    "  train_writer.close()\n",
    "  test_writer.close()"
   ]
  },
  {
   "cell_type": "code",
   "execution_count": 5,
   "metadata": {
    "collapsed": true
   },
   "outputs": [],
   "source": [
    "run_number = 0"
   ]
  },
  {
   "cell_type": "code",
   "execution_count": 6,
   "metadata": {
    "collapsed": false
   },
   "outputs": [
    {
     "name": "stdout",
     "output_type": "stream",
     "text": [
      "5\n",
      "100\n"
     ]
    }
   ],
   "source": [
    "learning_rate = 0.001\n",
    "training_epochs = 100\n",
    "train_keep_prob = 0.92\n",
    "\n",
    "# Train batch size\n",
    "batch_size = 20\n",
    "total_batches = int(len(x_train) / batch_size)\n",
    "print total_batches\n",
    "\n",
    "# Test frequency / size\n",
    "test_every = 5\n",
    "test_batch_size = int(1*len(x_test))\n",
    "print test_batch_size"
   ]
  },
  {
   "cell_type": "code",
   "execution_count": 7,
   "metadata": {
    "collapsed": false
   },
   "outputs": [],
   "source": [
    "# run(re_run=False)"
   ]
  },
  {
   "cell_type": "code",
   "execution_count": 8,
   "metadata": {
    "collapsed": false
   },
   "outputs": [
    {
     "name": "stdout",
     "output_type": "stream",
     "text": [
      "tensorboard --logdir=//home/andy/Desktop/cnn_svhn_old/logs/20170423_1715/\n",
      "(?, 16, 16, 64)\n",
      "(?, 8, 8, 64)\n",
      "(?, 4096)\n",
      "(?, 256)\n",
      "INFO:tensorflow:Restoring parameters from /tmp/model0.ckpt\n",
      "Model 0 restored\n",
      "0.71\n"
     ]
    }
   ],
   "source": [
    "run(re_run=True)"
   ]
  },
  {
   "cell_type": "code",
   "execution_count": null,
   "metadata": {
    "collapsed": true
   },
   "outputs": [],
   "source": []
  }
 ],
 "metadata": {
  "anaconda-cloud": {},
  "kernelspec": {
   "display_name": "Python 2",
   "language": "python",
   "name": "python2"
  },
  "language_info": {
   "codemirror_mode": {
    "name": "ipython",
    "version": 2
   },
   "file_extension": ".py",
   "mimetype": "text/x-python",
   "name": "python",
   "nbconvert_exporter": "python",
   "pygments_lexer": "ipython2",
   "version": "2.7.12"
  }
 },
 "nbformat": 4,
 "nbformat_minor": 0
}
