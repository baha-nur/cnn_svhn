{
 "cells": [
  {
   "cell_type": "markdown",
   "metadata": {},
   "source": [
    "## Baseline model from tensorflow tutorial\n",
    "#### trained on old data: 76k of 3 channels images\n",
    "#### conv1: 32 features, 5 x 5, max pool 2, 2\n",
    "#### conv2: 64 features, 5 x 5, max pool 2, 2\n",
    "#### fc1: 1024\n",
    "#### no dropout"
   ]
  },
  {
   "cell_type": "code",
   "execution_count": 1,
   "metadata": {
    "collapsed": false
   },
   "outputs": [],
   "source": [
    "import gen_input\n",
    "import numpy as np\n",
    "import os\n",
    "from datetime import datetime\n",
    "from time import time\n",
    "import tensorflow as tf"
   ]
  },
  {
   "cell_type": "code",
   "execution_count": 2,
   "metadata": {
    "collapsed": false
   },
   "outputs": [
    {
     "name": "stdout",
     "output_type": "stream",
     "text": [
      "(1024, 3)\n",
      "(73257, 1024, 3)\n",
      "(1024, 3)\n",
      "(26032, 1024, 3)\n"
     ]
    }
   ],
   "source": [
    "train_test_valid_split = [1., 0., 0.]\n",
    "svhn_train = gen_input.read_data_sets(\"data/train_32x32.mat\", train_test_valid_split).train\n",
    "svhn_test = gen_input.read_data_sets(\"data/test_32x32.mat\", train_test_valid_split).train\n",
    "\n",
    "print svhn_train.images[0].shape\n",
    "print svhn_train.images.shape\n",
    "print svhn_test.images[0].shape\n",
    "print svhn_test.images.shape"
   ]
  },
  {
   "cell_type": "markdown",
   "metadata": {},
   "source": [
    "## Model Wrappers"
   ]
  },
  {
   "cell_type": "code",
   "execution_count": 3,
   "metadata": {
    "collapsed": false
   },
   "outputs": [],
   "source": [
    "# Conv2D wrapper, with bias and relu activation\n",
    "def conv2d(x, W, b, strides=1):\n",
    "  x = tf.nn.conv2d(x, W, \n",
    "                   strides=[1, strides, strides, 1], \n",
    "                   padding='SAME')\n",
    "  x = tf.nn.bias_add(x, b)\n",
    "  return tf.nn.relu(x)\n",
    "\n",
    "# MaxPool2D wrapper\n",
    "def maxpool2d(x, k=2):\n",
    "  return tf.nn.max_pool(x, \n",
    "                        ksize=[1, k, k, 1], \n",
    "                        strides=[1, k, k, 1],\n",
    "                        padding='SAME')\n",
    "\n",
    "# 2-layer Convolutional network with 2x2 max pooling\n",
    "def conv_net(x, weights, biases, keep_prob):\n",
    "  # Reshape input\n",
    "  x = tf.reshape(x, shape=[-1, 32, 32, 3])\n",
    "\n",
    "  conv1 = conv2d(x, weights['wc1'], biases['bc1'])\n",
    "  conv1 = maxpool2d(conv1, k=2)\n",
    "\n",
    "  conv2 = conv2d(conv1, weights['wc2'], biases['bc2'])\n",
    "  conv2 = maxpool2d(conv2, k=2)\n",
    "\n",
    "  # Reshape conv2 output to fit fully connected layer input\n",
    "  fc1 = tf.reshape(conv2, [-1, weights['wd1'].get_shape().as_list()[0]])\n",
    "  # Fully connected layer\n",
    "  fc1 = tf.add(tf.matmul(fc1, weights['wd1']), biases['bd1'])\n",
    "  fc1 = tf.nn.relu(fc1)\n",
    "  fc1 = tf.nn.dropout(fc1, keep_prob)\n",
    "\n",
    "  # Output classes\n",
    "  out = tf.add(tf.matmul(fc1, weights['out']), biases['out'])\n",
    "  return out"
   ]
  },
  {
   "cell_type": "code",
   "execution_count": 20,
   "metadata": {
    "collapsed": true
   },
   "outputs": [],
   "source": [
    "def run():\n",
    "  # RESET TF GRAPH, just in case\n",
    "  tf.reset_default_graph()\n",
    "\n",
    "  with tf.name_scope('input'):\n",
    "    x = tf.placeholder(tf.float32, shape=[None, 1024, 3], name=\"x_input\") \n",
    "    y_ = tf.placeholder(tf.float32, shape=[None, 10], name=\"y_actual\")\n",
    "    tf.add_to_collection('x', x)\n",
    "    tf.add_to_collection('y_', y_)\n",
    "\n",
    "  with tf.name_scope('dropout'):\n",
    "    keep_prob = tf.placeholder(tf.float32)\n",
    "    tf.add_to_collection('keep_prob', keep_prob)\n",
    "\n",
    "  with tf.name_scope('weights'):\n",
    "    weights = {\n",
    "        'wc1': tf.Variable(tf.random_normal([5, 5, 3, 32]), name=\"weights_conv1\"),\n",
    "        'wc2': tf.Variable(tf.random_normal([5, 5, 32, 64]), name=\"weights_conv2\"),\n",
    "        'wd1': tf.Variable(tf.random_normal([8*8*64, 1024]), name=\"weights_fc1\"),\n",
    "        'out': tf.Variable(tf.random_normal([1024, 10]), name=\"weights_output\")\n",
    "    }\n",
    "\n",
    "  with tf.name_scope('biases'):\n",
    "    biases = {\n",
    "        'bc1': tf.Variable(tf.constant(0.0, shape=[32]), name=\"bias_conv1\"),\n",
    "        'bc2': tf.Variable(tf.constant(0.0, shape=[64]), name=\"bias_conv2\"),\n",
    "        'bd1': tf.Variable(tf.constant(0.0, shape=[1024]), name=\"bias_fc1\"),\n",
    "        'out': tf.Variable(tf.constant(0.0, shape=[10]), name=\"bias_output\")\n",
    "    }\n",
    "\n",
    "  with tf.name_scope('Model'):\n",
    "    logits = conv_net(x, weights, biases, keep_prob)\n",
    "    tf.add_to_collection('ops', logits)\n",
    "\n",
    "  with tf.name_scope('Loss'):\n",
    "    loss = tf.reduce_mean(tf.nn.softmax_cross_entropy_with_logits(logits=logits, labels=y_))\n",
    "\n",
    "  with tf.name_scope('Accuracy'):\n",
    "    accuracy = tf.equal(tf.argmax(logits, 1), tf.argmax(y_, 1))\n",
    "    accuracy = tf.reduce_mean(tf.cast(accuracy, tf.float32))\n",
    "\n",
    "  with tf.name_scope('Optimizer'):\n",
    "    optimizer = tf.train.AdamOptimizer(learning_rate).minimize(loss)\n",
    "\n",
    "\n",
    "  # Initializing the variables\n",
    "  init = tf.global_variables_initializer()\n",
    "\n",
    "  # Summaries to visualize loss & accuracy\n",
    "  tf.summary.scalar(\"loss\", loss)\n",
    "  tf.summary.scalar(\"accuracy\", accuracy)\n",
    "\n",
    "  merged_summaries = tf.summary.merge_all()\n",
    "  \n",
    "  # for saving the model in the end\n",
    "  saver = tf.train.Saver()\n",
    "\n",
    "  ts = datetime.now().strftime('%Y%m%d_%H%M')\n",
    "  logs_path = \"logs/{}/\".format(ts)\n",
    "  print \"-\"* 70\n",
    "  pwd = os.getcwd()+\"/\"\n",
    "  print(\"Run the following to start tensorboard server:\\n\" \\\n",
    "        \"tensorboard --logdir=/{}{}\".format(pwd, logs_path))\n",
    "\n",
    "  ##########################################\n",
    "  ##                                      ##\n",
    "  ##           Launch the graph           ##\n",
    "  ##                                      ##\n",
    "  ##########################################\n",
    "  \n",
    "  # Normalize by subtracting per image, per channel means\n",
    "  def normalize_batch(batch):\n",
    "    per_img_ch_means = batch.mean(axis=1)\n",
    "    return batch - per_img_ch_means[:, np.newaxis, :]\n",
    "\n",
    "  # Fill in the place holders depending on the context (training? testing?)\n",
    "  def feed_dict(mode):\n",
    "    if mode == 'train':\n",
    "      batch_x, batch_y = svhn_train.next_batch(batch_size)\n",
    "      keep_proba = train_keep_prob\n",
    "\n",
    "    elif mode == 'train_no_dropout':\n",
    "      batch_x, batch_y = svhn_train.next_batch(test_batch_size)\n",
    "      keep_proba = 1.0\n",
    "\n",
    "    elif mode == 'test_no_dropout':\n",
    "      batch_x, batch_y = svhn_test.next_batch(test_batch_size)\n",
    "      keep_proba = 1.0\n",
    "\n",
    "    batch_x = normalize_batch(batch_x) # Subtract per image mean\n",
    "    return {x: batch_x, y_: batch_y, keep_prob: keep_proba} # can't name values same as keys\n",
    "\n",
    "  with tf.Session() as sess:\n",
    "    t_start = time()\n",
    "    sess.run(init)\n",
    "    train_writer = tf.summary.FileWriter(logs_path + '/train', sess.graph)\n",
    "    test_writer = tf.summary.FileWriter(logs_path + '/test')\n",
    "    # Training loop\n",
    "    for epoch in xrange(training_epochs):\n",
    "      for batch_num in xrange(total_batches):\n",
    "        if batch_num % test_every == test_every - 1:\n",
    "\n",
    "          # Record summaries and accuracy on the *test* set\n",
    "          summary, acc = sess.run([merged_summaries, accuracy], feed_dict=feed_dict(mode='test_no_dropout'))\n",
    "          test_writer.add_summary(summary, epoch * total_batches + batch_num)\n",
    "\n",
    "          # To compare against *training* set (apples to apples comparison)\n",
    "          summary, _ = sess.run([merged_summaries, optimizer], feed_dict=feed_dict(mode='train_no_dropout'))\n",
    "          train_writer.add_summary(summary, epoch * total_batches + batch_num)\n",
    "\n",
    "          # Print occasional progress\n",
    "          print('Test accuracy at epoch %s: batch %s: %s' % (epoch, batch_num, acc))\n",
    "        else:\n",
    "          sess.run([optimizer], feed_dict=feed_dict(mode='train'))\n",
    "    \n",
    "    t_end = time()\n",
    "    elapsed_mins = (t_end - t_start) / 60.0\n",
    "    print \"\\nOptimization Finished! in {} minutes\".format(elapsed_mins)\n",
    "    \n",
    "    # Save down the current model\n",
    "    if not os.path.exists(\"models\"): os.makedirs(\"models\")\n",
    "    saver.save(sess, \"models/{}\".format(model_name))"
   ]
  },
  {
   "cell_type": "code",
   "execution_count": 21,
   "metadata": {
    "collapsed": false
   },
   "outputs": [
    {
     "name": "stdout",
     "output_type": "stream",
     "text": [
      "----------------------------------------------------------------------\n",
      "Run the following to start tensorboard server:\n",
      "tensorboard --logdir=//Users/baha/workspace/svhn/logs/20170423_1704/\n",
      "\n",
      "Optimization Finished! in 0.0617247819901 minutes\n"
     ]
    }
   ],
   "source": [
    "##########################################\n",
    "##                                      ##\n",
    "##              Parameters              ##\n",
    "##                                      ##\n",
    "##########################################\n",
    "\n",
    "# Training Parameters\n",
    "learning_rate = 0.001\n",
    "training_epochs = 3\n",
    "\n",
    "batch_size = 100\n",
    "test_batch_size = 5000 #50\n",
    "test_every = 100\n",
    "\n",
    "total_batches = int(svhn_train.num_examples / batch_size)\n",
    "\n",
    "# Drop out \n",
    "train_keep_prob = 1.0\n",
    "\n",
    "model_name = \"baseline_old_data\"\n",
    "\n",
    "run()"
   ]
  },
  {
   "cell_type": "markdown",
   "metadata": {},
   "source": [
    "## Testing inference"
   ]
  },
  {
   "cell_type": "code",
   "execution_count": 31,
   "metadata": {
    "collapsed": false
   },
   "outputs": [
    {
     "name": "stdout",
     "output_type": "stream",
     "text": [
      "model restored\n",
      "[<tf.Tensor 'input/x_input:0' shape=(?, 1024, 3) dtype=float32>]\n",
      "[4 4 4 4 0 2 2 2 2 2]\n",
      "[3 7 6 3 0 0 2 7 4 2]\n"
     ]
    }
   ],
   "source": [
    "saver = tf.train.Saver()\n",
    "x_batch, y_batch = svhn_test.next_batch(10)\n",
    "\n",
    "with tf.Session() as sess:\n",
    "  saver.restore(sess, \"models/{}\".format(model_name))\n",
    "  print \"model restored\"\n",
    "  #logits\n",
    "\n",
    "  logits = tf.get_collection(\"logits\")[0]\n",
    "  x = tf.get_collection(\"x\")[0]\n",
    "  y_ = tf.get_collection(\"y_\")[0]\n",
    "  keep_prob = tf.get_collection(\"keep_prob\")[0]\n",
    "  \n",
    "  predictions = sess.run(logits, feed_dict={x: x_batch, y_: y_batch, keep_prob: 1.0})\n",
    "  y_preds = tf.argmax(predictions, 1)\n",
    "  y_actual = tf.argmax(y_batch, 1)\n",
    "  \n",
    "  ## tf.equal(tf.argmax(logits, 1), tf.argmax(y_, 1))\n",
    "  print sess.run(y_preds)\n",
    "  print sess.run(y_actual)"
   ]
  }
 ],
 "metadata": {
  "anaconda-cloud": {},
  "kernelspec": {
   "display_name": "Python [Root]",
   "language": "python",
   "name": "Python [Root]"
  },
  "language_info": {
   "codemirror_mode": {
    "name": "ipython",
    "version": 2
   },
   "file_extension": ".py",
   "mimetype": "text/x-python",
   "name": "python",
   "nbconvert_exporter": "python",
   "pygments_lexer": "ipython2",
   "version": "2.7.12"
  }
 },
 "nbformat": 4,
 "nbformat_minor": 0
}
