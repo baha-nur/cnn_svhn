{
 "cells": [
  {
   "cell_type": "code",
   "execution_count": 1,
   "metadata": {
    "collapsed": false,
    "deletable": true,
    "editable": true
   },
   "outputs": [],
   "source": [
    "import numpy as np\n",
    "import pandas as pd\n",
    "import scipy.io\n",
    "import cPickle as pickle\n",
    "import gzip\n",
    "\n",
    "import matplotlib.pyplot as plt\n",
    "%matplotlib inline"
   ]
  },
  {
   "cell_type": "code",
   "execution_count": 2,
   "metadata": {
    "collapsed": false,
    "deletable": true,
    "editable": true
   },
   "outputs": [
    {
     "name": "stdout",
     "output_type": "stream",
     "text": [
      "((32, 32, 3, 73257), (73257, 1))\n",
      "((32, 32, 3, 26032), (26032, 1))\n",
      "((32, 32, 3, 531131), (531131, 1))\n",
      "((604388, 32, 32, 3), (604388,))\n",
      "((26032, 32, 32, 3), (26032,))\n"
     ]
    }
   ],
   "source": [
    "train_data = scipy.io.loadmat('data/train_32x32.mat', variable_names='X').get('X')\n",
    "train_labels = scipy.io.loadmat('data/train_32x32.mat', variable_names='y').get('y')\n",
    "test_data = scipy.io.loadmat('data/test_32x32.mat', variable_names='X').get('X')\n",
    "test_labels = scipy.io.loadmat('data/test_32x32.mat', variable_names='y').get('y')\n",
    "extra_data = scipy.io.loadmat('data/extra_32x32.mat', variable_names='X').get('X')\n",
    "extra_labels = scipy.io.loadmat('data/extra_32x32.mat', variable_names='y').get('y')\n",
    "\n",
    "print(train_data.shape, train_labels.shape)\n",
    "print(test_data.shape, test_labels.shape)\n",
    "print(extra_data.shape, extra_labels.shape)\n",
    "\n",
    "train_labels[train_labels == 10] = 0\n",
    "test_labels[test_labels == 10] = 0\n",
    "extra_labels[extra_labels == 10] = 0\n",
    "\n",
    "train_data = np.concatenate((extra_data, train_data), axis=3).transpose((3,0,1,2))\n",
    "train_labels = np.concatenate((extra_labels, train_labels), axis=0)[:,0]\n",
    "\n",
    "test_data = test_data.transpose((3,0,1,2))\n",
    "test_labels = test_labels[:,0]\n",
    "\n",
    "extra_data = None\n",
    "extra_labels = None\n",
    "\n",
    "print(train_data.shape, train_labels.shape)\n",
    "print(test_data.shape, test_labels.shape)"
   ]
  },
  {
   "cell_type": "code",
   "execution_count": null,
   "metadata": {
    "collapsed": false,
    "deletable": true,
    "editable": true
   },
   "outputs": [],
   "source": [
    "df = pd.DataFrame(train_labels)\n",
    "df[0].value_counts().plot(kind=\"bar\")"
   ]
  },
  {
   "cell_type": "code",
   "execution_count": null,
   "metadata": {
    "collapsed": false,
    "deletable": true,
    "editable": true
   },
   "outputs": [],
   "source": [
    "df = pd.DataFrame(test_labels)\n",
    "df[0].value_counts().plot(kind=\"bar\")"
   ]
  },
  {
   "cell_type": "code",
   "execution_count": 6,
   "metadata": {
    "collapsed": false,
    "deletable": true,
    "editable": true
   },
   "outputs": [],
   "source": [
    "def dense_to_one_hot(labels_dense, num_classes=10):\n",
    "  \"\"\"Convert class labels from scalars to one-hot vectors.\"\"\"\n",
    "  num_labels = labels_dense.shape[0]\n",
    "  index_offset = np.arange(num_labels) * num_classes\n",
    "  labels_one_hot = np.zeros((num_labels, num_classes))\n",
    "  labels_one_hot.flat[index_offset + labels_dense.ravel()] = 1\n",
    "  return labels_one_hot"
   ]
  },
  {
   "cell_type": "code",
   "execution_count": null,
   "metadata": {
    "collapsed": true,
    "deletable": true,
    "editable": true
   },
   "outputs": [],
   "source": [
    "data = {\"train_data\": train_data, \n",
    "        \"train_labels\": dense_to_one_hot(train_labels),\n",
    "        \"test_data\": test_data, \n",
    "        \"test_labels\": dense_to_one_hot(test_labels)\n",
    "       }\n",
    "with gzip.open(\"data/svhn_full_color_norm.pkl\", \"wb\") as f:\n",
    "  pickle.dump(data, f, pickle.HIGHEST_PROTOCOL)\n"
   ]
  },
  {
   "cell_type": "code",
   "execution_count": 3,
   "metadata": {
    "collapsed": false,
    "deletable": true,
    "editable": true
   },
   "outputs": [
    {
     "name": "stdout",
     "output_type": "stream",
     "text": [
      "((604388, 32, 32), (604388,))\n",
      "((26032, 32, 32), (26032,))\n"
     ]
    }
   ],
   "source": [
    "# Using Method from: http://www.eyemaginary.com/Rendering/TurnColorsGray.pdf\n",
    "# Fast, contrast enhancing grayscale conversion\n",
    "def rbg2gray(img):\n",
    "    img = img.astype(float)\n",
    "    return np.dot(img, [[0.2989],[0.5870],[0.1140]])\n",
    "\n",
    "# Global Contrast Normalization\n",
    "# As per: https://github.com/hangyao/street_view_house_numbers/blob/master/1_preprocess_single.ipynb\n",
    "def GCN(image, min_divisor=1e-4):\n",
    "    imsize = image.shape[0]\n",
    "    mean = np.mean(image, axis=(1,2), dtype=float)\n",
    "    std = np.std(image, axis=(1,2), dtype=float, ddof=1)\n",
    "    std[std < min_divisor] = 1.\n",
    "    image_GCN = np.zeros(image.shape, dtype=float)\n",
    "    \n",
    "    for i in np.arange(imsize):\n",
    "        image_GCN[i,:,:] = (image[i,:,:] - mean[i]) / std[i]\n",
    "        \n",
    "    return image_GCN\n",
    "  \n",
    "train_data_gray = rbg2gray(train_data)[:,:,:,0]\n",
    "test_data_gray = rbg2gray(test_data)[:,:,:,0]\n",
    "\n",
    "train_data_gcn = GCN(train_data_gray)\n",
    "test_data_gcn = GCN(test_data_gray)\n",
    "\n",
    "print(train_data_gcn.shape, train_labels.shape)\n",
    "print(test_data_gcn.shape, test_labels.shape)"
   ]
  },
  {
   "cell_type": "code",
   "execution_count": 7,
   "metadata": {
    "collapsed": false,
    "deletable": true,
    "editable": true
   },
   "outputs": [],
   "source": [
    "data = {\n",
    "         \"train_labels\": dense_to_one_hot(train_labels),\n",
    "         \"test_data\": test_data_gcn, \n",
    "         \"test_labels\": dense_to_one_hot(test_labels)\n",
    "       }\n",
    "\n",
    "with gzip.open(\"data/svhn_grayscale_gcn.pkl\", \"wb\") as f:\n",
    "  pickle.dump(data, f, pickle.HIGHEST_PROTOCOL)"
   ]
  },
  {
   "cell_type": "code",
   "execution_count": 4,
   "metadata": {
    "collapsed": true
   },
   "outputs": [],
   "source": [
    "np.save(\"data/svhn_grayscale_gcn_train.np\", train_data_gcn)"
   ]
  },
  {
   "cell_type": "code",
   "execution_count": 23,
   "metadata": {
    "collapsed": false,
    "deletable": true,
    "editable": true,
    "scrolled": false
   },
   "outputs": [
    {
     "data": {
      "image/png": "[encoded data removed]",
      "text/plain": [
       "<matplotlib.figure.Figure at 0x7f15a983d2d0>"
      ]
     },
     "metadata": {},
     "output_type": "display_data"
    },
    {
     "data": {
      "image/png": "[encoded data removed]",
      "text/plain": [
       "<matplotlib.figure.Figure at 0x7f15a9a4fb50>"
      ]
     },
     "metadata": {},
     "output_type": "display_data"
    }
   ],
   "source": [
    "for i in range(15, 16):\n",
    "  fig = plt.figure()\n",
    "  ax = fig.add_subplot(1,1,1)\n",
    "  lbl = train_labels[i]\n",
    "  ax.set_title(lbl)\n",
    "\n",
    "  img_gcn = train_data_gcn[i]\n",
    "  plt.imshow(img_gcn, cmap=\"gray\"); plt.show()\n",
    "  \n",
    "  img_org = train_data[i]\n",
    "  plt.imshow(img_org); plt.show()"
   ]
  },
  {
   "cell_type": "code",
   "execution_count": null,
   "metadata": {
    "collapsed": true,
    "deletable": true,
    "editable": true
   },
   "outputs": [],
   "source": [
    "# for i in range(1010, 1014):\n",
    "#   fig = plt.figure()\n",
    "#   ax = fig.add_subplot(1,1,1)\n",
    "#   img_255_label = train_labels_full[i]\n",
    "#   ax.set_title(img_255_label)\n",
    "\n",
    "#   img_255 = train_data_full[i]\n",
    "#   plt.imshow(img_255); plt.show()\n",
    "#   img_255 = im2gray(img_255)#\n",
    "#   plt.imshow(img_255[:, :, 0]); plt.show()\n",
    "#   img_255 = GCN(img_255)\n",
    "#   plt.imshow(img_255[:,:,0]); plt.show()\n",
    "\n",
    "#   img_01 = GCN(data_sets.train.images[i])\n",
    "#   img_01_label = data_sets.train.labels[i]\n",
    "#   imgplot = plt.imshow(img_01)\n",
    "#   plt.show()"
   ]
  }
 ],
 "metadata": {
  "anaconda-cloud": {},
  "kernelspec": {
   "display_name": "Python 2",
   "language": "python",
   "name": "python2"
  },
  "language_info": {
   "codemirror_mode": {
    "name": "ipython",
    "version": 2
   },
   "file_extension": ".py",
   "mimetype": "text/x-python",
   "name": "python",
   "nbconvert_exporter": "python",
   "pygments_lexer": "ipython2",
   "version": "2.7.12"
  }
 },
 "nbformat": 4,
 "nbformat_minor": 0
}
